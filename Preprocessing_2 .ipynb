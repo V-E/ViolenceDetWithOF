{
 "cells": [
  {
   "cell_type": "code",
   "execution_count": 2,
   "metadata": {},
   "outputs": [],
   "source": [
    "import pandas as pd \n",
    "import cv2 \n",
    "import numpy as np \n"
   ]
  },
  {
   "cell_type": "code",
   "execution_count": 3,
   "metadata": {},
   "outputs": [],
   "source": [
    "df = pd.read_csv('train.csv')"
   ]
  },
  {
   "cell_type": "code",
   "execution_count": 4,
   "metadata": {},
   "outputs": [
    {
     "data": {
      "text/html": [
       "<div>\n",
       "<style scoped>\n",
       "    .dataframe tbody tr th:only-of-type {\n",
       "        vertical-align: middle;\n",
       "    }\n",
       "\n",
       "    .dataframe tbody tr th {\n",
       "        vertical-align: top;\n",
       "    }\n",
       "\n",
       "    .dataframe thead th {\n",
       "        text-align: right;\n",
       "    }\n",
       "</style>\n",
       "<table border=\"1\" class=\"dataframe\">\n",
       "  <thead>\n",
       "    <tr style=\"text-align: right;\">\n",
       "      <th></th>\n",
       "      <th>0</th>\n",
       "      <th>1</th>\n",
       "    </tr>\n",
       "  </thead>\n",
       "  <tbody>\n",
       "    <tr>\n",
       "      <th>0</th>\n",
       "      <td>data/HockeyFights/no/no340_xvid.avi</td>\n",
       "      <td>0</td>\n",
       "    </tr>\n",
       "    <tr>\n",
       "      <th>1</th>\n",
       "      <td>data/HockeyFights/yes/fi166_xvid.avi</td>\n",
       "      <td>1</td>\n",
       "    </tr>\n",
       "    <tr>\n",
       "      <th>2</th>\n",
       "      <td>data/HockeyFights/no/no220_xvid.avi</td>\n",
       "      <td>0</td>\n",
       "    </tr>\n",
       "    <tr>\n",
       "      <th>3</th>\n",
       "      <td>data/HockeyFights/no/no365_xvid.avi</td>\n",
       "      <td>0</td>\n",
       "    </tr>\n",
       "    <tr>\n",
       "      <th>4</th>\n",
       "      <td>data/HockeyFights/yes/fi249_xvid.avi</td>\n",
       "      <td>1</td>\n",
       "    </tr>\n",
       "  </tbody>\n",
       "</table>\n",
       "</div>"
      ],
      "text/plain": [
       "                                      0  1\n",
       "0   data/HockeyFights/no/no340_xvid.avi  0\n",
       "1  data/HockeyFights/yes/fi166_xvid.avi  1\n",
       "2   data/HockeyFights/no/no220_xvid.avi  0\n",
       "3   data/HockeyFights/no/no365_xvid.avi  0\n",
       "4  data/HockeyFights/yes/fi249_xvid.avi  1"
      ]
     },
     "execution_count": 4,
     "metadata": {},
     "output_type": "execute_result"
    }
   ],
   "source": [
    "df.head()"
   ]
  },
  {
   "cell_type": "code",
   "execution_count": 5,
   "metadata": {},
   "outputs": [],
   "source": [
    "x = df.iloc[:,0].values\n",
    "y = df.iloc[:,1].values"
   ]
  },
  {
   "cell_type": "code",
   "execution_count": 7,
   "metadata": {},
   "outputs": [
    {
     "ename": "KeyboardInterrupt",
     "evalue": "",
     "output_type": "error",
     "traceback": [
      "\u001b[1;31m---------------------------------------------------------------------------\u001b[0m",
      "\u001b[1;31mKeyboardInterrupt\u001b[0m                         Traceback (most recent call last)",
      "\u001b[1;32m<ipython-input-7-ec61d6a64bcc>\u001b[0m in \u001b[0;36m<module>\u001b[1;34m\u001b[0m\n\u001b[0;32m     14\u001b[0m                 \u001b[0mgray2\u001b[0m \u001b[1;33m=\u001b[0m \u001b[0mcv2\u001b[0m\u001b[1;33m.\u001b[0m\u001b[0mcvtColor\u001b[0m\u001b[1;33m(\u001b[0m\u001b[0mprevious_frame\u001b[0m\u001b[1;33m,\u001b[0m \u001b[0mcv2\u001b[0m\u001b[1;33m.\u001b[0m\u001b[0mCOLOR_BGR2GRAY\u001b[0m\u001b[1;33m)\u001b[0m\u001b[1;33m\u001b[0m\u001b[1;33m\u001b[0m\u001b[0m\n\u001b[0;32m     15\u001b[0m                 \u001b[0mgray1\u001b[0m \u001b[1;33m=\u001b[0m \u001b[0mgray1\u001b[0m\u001b[1;33m.\u001b[0m\u001b[0mreshape\u001b[0m\u001b[1;33m(\u001b[0m\u001b[0mgray2\u001b[0m\u001b[1;33m.\u001b[0m\u001b[0mshape\u001b[0m\u001b[1;33m)\u001b[0m\u001b[1;33m\u001b[0m\u001b[1;33m\u001b[0m\u001b[0m\n\u001b[1;32m---> 16\u001b[1;33m                 \u001b[0mflow\u001b[0m \u001b[1;33m=\u001b[0m \u001b[0mcv2\u001b[0m\u001b[1;33m.\u001b[0m\u001b[0mcalcOpticalFlowFarneback\u001b[0m\u001b[1;33m(\u001b[0m\u001b[0mgray2\u001b[0m\u001b[1;33m,\u001b[0m\u001b[0mgray1\u001b[0m\u001b[1;33m,\u001b[0m \u001b[1;32mNone\u001b[0m\u001b[1;33m,\u001b[0m \u001b[1;36m0.5\u001b[0m\u001b[1;33m,\u001b[0m \u001b[1;36m3\u001b[0m\u001b[1;33m,\u001b[0m \u001b[1;36m15\u001b[0m\u001b[1;33m,\u001b[0m \u001b[1;36m3\u001b[0m\u001b[1;33m,\u001b[0m \u001b[1;36m5\u001b[0m\u001b[1;33m,\u001b[0m \u001b[1;36m1.2\u001b[0m\u001b[1;33m,\u001b[0m \u001b[1;36m0\u001b[0m\u001b[1;33m)\u001b[0m\u001b[1;33m\u001b[0m\u001b[1;33m\u001b[0m\u001b[0m\n\u001b[0m\u001b[0;32m     17\u001b[0m                 \u001b[0mmag\u001b[0m\u001b[1;33m,\u001b[0m \u001b[0mang\u001b[0m \u001b[1;33m=\u001b[0m \u001b[0mcv2\u001b[0m\u001b[1;33m.\u001b[0m\u001b[0mcartToPolar\u001b[0m\u001b[1;33m(\u001b[0m\u001b[0mflow\u001b[0m\u001b[1;33m[\u001b[0m\u001b[1;33m...\u001b[0m\u001b[1;33m,\u001b[0m\u001b[1;36m0\u001b[0m\u001b[1;33m]\u001b[0m\u001b[1;33m,\u001b[0m \u001b[0mflow\u001b[0m\u001b[1;33m[\u001b[0m\u001b[1;33m...\u001b[0m\u001b[1;33m,\u001b[0m\u001b[1;36m1\u001b[0m\u001b[1;33m]\u001b[0m\u001b[1;33m)\u001b[0m\u001b[1;33m\u001b[0m\u001b[1;33m\u001b[0m\u001b[0m\n\u001b[0;32m     18\u001b[0m                 \u001b[0mmagnitude\u001b[0m \u001b[1;33m=\u001b[0m \u001b[0mabs\u001b[0m\u001b[1;33m(\u001b[0m\u001b[0mmag\u001b[0m \u001b[1;33m-\u001b[0m \u001b[0mo_mag\u001b[0m\u001b[1;33m)\u001b[0m\u001b[1;33m\u001b[0m\u001b[1;33m\u001b[0m\u001b[0m\n",
      "\u001b[1;31mKeyboardInterrupt\u001b[0m: "
     ]
    }
   ],
   "source": [
    "for i in x:\n",
    "    cap = cv2.VideoCapture(i)\n",
    "    frame_count=0\n",
    "    previous_frame = 0\n",
    "    o_mag=0\n",
    "    o_ang=0\n",
    "    \n",
    "    while(cap.isOpened()):\n",
    "        ret, frame = cap.read()\n",
    "        if ret == True:\n",
    "            if frame_count>0:\n",
    "                cv2.imshow('frame',frame)\n",
    "                gray1 = cv2.cvtColor(frame, cv2.COLOR_BGR2GRAY)\n",
    "                gray2 = cv2.cvtColor(previous_frame, cv2.COLOR_BGR2GRAY)\n",
    "                gray1 = gray1.reshape(gray2.shape)\n",
    "                flow = cv2.calcOpticalFlowFarneback(gray2,gray1, None, 0.5, 3, 15, 3, 5, 1.2, 0)\n",
    "                mag, ang = cv2.cartToPolar(flow[...,0], flow[...,1])\n",
    "                magnitude = abs(mag - o_mag)\n",
    "                angle = abs(ang - o_ang)\n",
    "                o_ang = ang \n",
    "                o_mag = mag\n",
    "#                 print(magnitude.shape)\n",
    "#                 print(angle.shape)\n",
    "                magnitude = cv2.medianBlur(magnitude,5).astype('uint8')\n",
    "                angle = cv2.medianBlur(angle,5).astype('uint8')\n",
    "                Mag_adaptive = cv2.adaptiveThreshold(magnitude,255,cv2.ADAPTIVE_THRESH_GAUSSIAN_C,cv2.THRESH_BINARY,11,2)\n",
    "                Ang_adaptive = cv2.adaptiveThreshold(angle,255,cv2.ADAPTIVE_THRESH_GAUSSIAN_C,cv2.THRESH_BINARY,11,2)\n",
    "                \n",
    "                ret ,Mag_otsu = cv2.threshold(magnitude,0,255,cv2.THRESH_BINARY+cv2.THRESH_OTSU)\n",
    "                ret, Ang_otsu = cv2.threshold(angle,0,255,cv2.THRESH_BINARY+cv2.THRESH_OTSU)\n",
    "                ret,Mag_mean = cv2.threshold(magnitude,127,255,cv2.THRESH_BINARY)\n",
    "                ret,Ang_mean = cv2.threshold(angle,127,255,cv2.THRESH_BINARY)\n",
    "               \n",
    "                \n",
    "                hsv = np.zeros_like(previous_frame)\n",
    "                hsv[...,1] = 255\n",
    "                hsv[...,0] = ang*180/np.pi/2\n",
    "                hsv[...,2] = cv2.normalize(mag,None,0,255,cv2.NORM_MINMAX)\n",
    "                rgb = cv2.cvtColor(hsv,cv2.COLOR_HSV2BGR)\n",
    "                \n",
    "                cv2.imshow('frame1',rgb)\n",
    "                hsv = np.zeros_like(previous_frame)\n",
    "                hsv[...,1] = 255\n",
    "                hsv[...,0] = angle*180/np.pi/2\n",
    "                hsv[...,2] = cv2.normalize(magnitude,None,0,255,cv2.NORM_MINMAX)\n",
    "                rgb = cv2.cvtColor(hsv,cv2.COLOR_HSV2BGR)\n",
    "                \n",
    "                cv2.imshow('frame2',rgb)\n",
    "                \n",
    "                cv2.imshow('Mag_adaptive',Mag_adaptive)\n",
    "                cv2.imshow('Ang_adaptive',Ang_adaptive)\n",
    "                cv2.imshow('Mag_otsu',Mag_otsu)\n",
    "                cv2.imshow('Ang_otsu',Ang_otsu)\n",
    "                cv2.imshow('Mag_mean',Mag_mean)\n",
    "                cv2.imshow('Ang_mean',Ang_mean)\n",
    "                \n",
    "                \n",
    "                \n",
    "                \n",
    "\n",
    "                hsv = np.zeros_like(previous_frame)\n",
    "                hsv[...,1] = 255\n",
    "                hsv[...,0] = angle*180/np.pi/2\n",
    "                hsv[...,2] = cv2.normalize(magnitude,None,0,255,cv2.NORM_MINMAX)\n",
    "                rgb = cv2.cvtColor(hsv,cv2.COLOR_HSV2BGR)\n",
    "                \n",
    "                cv2.imshow('frame2',rgb)\n",
    "            \n",
    "#             cv2.imshow('frame',gray)\n",
    "            previous_frame = frame \n",
    "            frame_count = frame_count+1\n",
    "            \n",
    "            if cv2.waitKey(30) & 0xFF == ord('q'):\n",
    "                break\n",
    "\n",
    "        else:\n",
    "            break\n",
    "\n",
    "    cap.release()\n",
    "    #out.release()\n",
    "    cv2.destroyAllWindows() "
   ]
  },
  {
   "cell_type": "code",
   "execution_count": null,
   "metadata": {},
   "outputs": [],
   "source": []
  }
 ],
 "metadata": {
  "kernelspec": {
   "display_name": "Python 3",
   "language": "python",
   "name": "python3"
  },
  "language_info": {
   "codemirror_mode": {
    "name": "ipython",
    "version": 3
   },
   "file_extension": ".py",
   "mimetype": "text/x-python",
   "name": "python",
   "nbconvert_exporter": "python",
   "pygments_lexer": "ipython3",
   "version": "3.6.8"
  }
 },
 "nbformat": 4,
 "nbformat_minor": 2
}
